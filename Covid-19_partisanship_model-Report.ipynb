{
 "cells": [
  {
   "attachments": {},
   "cell_type": "markdown",
   "metadata": {},
   "source": [
    "<h1> A Regression Study of the Effects of Partisanship on the toll of COVID-19</h1>\n",
    "\n",
    "<h3> w203 UC Berkeley</h3>\n",
    "<h3> Cziva, Hernandez, Wong</h3>"
   ]
  },
  {
   "attachments": {},
   "cell_type": "markdown",
   "metadata": {},
   "source": [
    "## Introduction ##\n",
    "\n",
    "### **Question**: What role did partisanship of states play in the shelter in place order and how did those politics ultimately affect the death toll?\n",
    "\n",
    "Currently, when someone observes the news, it is flooded with information on the COVID-19 pandemic. Most importantly, the responses taken toward the pandemic are highlighted as well as their preceived outcomes. One can clearly see that this is a partisan difference on how states have reacted to the spread of the disease throughout the country, especially when it comes to the topics of locking down the state (shelter in place) and requiring the use of masks in public. We want to examine **what role did partisanship of states play in the shelter in place orders and how did that stance ultimately effect the death toll?** This insight can help to determine which approach toward the pandemic is the most affective in combating the mortality, either being aggressive (which democratic states have been doing more) or being more laxed (which republican states have mostly been pursuing).\n",
    "\n",
    "According to experts, shelter in place protocols are one of the major actions that can be taken to help slow the spread of COVID. Unforuntately, the whole ordeal has become political and actions toward establishing shelter in place protocols have been split by party lines. One side argues that the seriousness of the virus is hyperbolized by the media and that shutting down society to prevent the spread the virus will do more damage than the virus itself, while the other side follows the advice of experts and claims that things will only get worse if strong actions are not taken now. By examining our data and modeling the duration of shelter in place protocols (if any estiablished) in various states to the normalized death tolls due to the virus, we will establish insist into which approach toward the virus, aggressive or lax, has been the most effective in combating the mortality of the virus."
   ]
  },
  {
   "cell_type": "markdown",
   "metadata": {},
   "source": [
    "## Model Building Process ##\n",
    "\n",
    "### EDA ###\n"
   ]
  },
  {
   "cell_type": "markdown",
   "metadata": {},
   "source": [
    "As we embark on our exploratory analysis, it is important to keep in mind what it is we would like to measure. Our question can be broken down into multiple parts, but ultimately, the objective is to determine if there is a relationship between partisanship and death toll of the states.  To that end, the variables of interest include:\n",
    "\n",
    "- `total_cases` - Total # of Covid Cases.\n",
    "- `total_test_results` - Total # of Tests Performed.\n",
    "- `total_deaths` - # of deaths caused by Covid.\n",
    "- `death_100k` - Death Rate per 100k.\n",
    "- `pop_2018`: Population as of 2018.\n",
    "- `pop_density`: Population Density per Square Miles.\n",
    "- `Governor Political Affiliation`: Categorical Variable of Governor's Political Party (ie. Republican, Democrat, etc).\n"
   ]
  },
  {
   "cell_type": "code",
   "execution_count": null,
   "metadata": {
    "vscode": {
     "languageId": "r"
    }
   },
   "outputs": [],
   "source": [
    "install.packages(\"car\")\n",
    "install.packages(\"dplyr\")\n",
    "install.packages(\"stargazer\")\n",
    "library(lmtest)\n",
    "library(sandwich)\n",
    "library(car)\n",
    "library(dplyr)\n",
    "library(stargazer)"
   ]
  },
  {
   "cell_type": "markdown",
   "metadata": {},
   "source": [
    "A number of irregularities exist in the provided dataset.  The list below describes those irregularities and the actions taken:\n",
    "- Header updated with meaningful and abbreviated variable names.\n",
    "- **Arizona** appears twice; a capitalized version and a non-capitalized one.  Their data weren't the same so we cross-referenced the data and discarded the version with the incorrect data.\n",
    "- Some shelter-in-place data was missing.  We cross-referenced the provided dataset with https://www.finra.org/rules-guidance/key-topics/covid-19/shelter-in-place.  Any discrepancies were further cross-referenced with other sites.  Missing data was filled in.\n",
    "- **Ohio** census data partially missing in provided dataset.  These missing figures were obtained and updated accordingly using data from https://data.census.gov/.\n",
    "- **Kentucky** missing Total Test Results data.  Data obtained from https://covidtracking.com/data/state/kentucky and dataset updated.\n",
    "\n",
    "The resulting dataset was compiled in a new file: **covid-data-cleaned.csv**."
   ]
  },
  {
   "cell_type": "code",
   "execution_count": 2,
   "metadata": {
    "vscode": {
     "languageId": "r"
    }
   },
   "outputs": [
    {
     "data": {
      "text/html": [
       "<table>\n",
       "<thead><tr><th scope=col>state</th><th scope=col>total_cases</th><th scope=col>total_deaths</th><th scope=col>death_100k</th><th scope=col>cases_last_7_days</th><th scope=col>rate_per_100k</th><th scope=col>total_test_results</th><th scope=col>date_state_emerg</th><th scope=col>date_sip_start</th><th scope=col>date_sip_end</th><th scope=col>...</th><th scope=col>pop_2018</th><th scope=col>pcnt_below_pov_2018</th><th scope=col>pcnt_ser_ill_risk_covid</th><th scope=col>count_all_cause_deaths_2018</th><th scope=col>prop_pop_0_18</th><th scope=col>prop_pop_19_25</th><th scope=col>prop_pop_26_34</th><th scope=col>prop_pop_35_54</th><th scope=col>prop_pop_55_64</th><th scope=col>prop_pop_65_over</th></tr></thead>\n",
       "<tbody>\n",
       "\t<tr><td>Alabama   </td><td> 44909    </td><td>1009      </td><td> 20.6     </td><td> 9804     </td><td> 918.8    </td><td> 449886   </td><td>3/13/2020 </td><td>4/4/2020  </td><td>4/30/2020 </td><td>...       </td><td> 4887871  </td><td>16.8      </td><td>43.1      </td><td> 54352    </td><td>0.24      </td><td>0.09      </td><td>0.12      </td><td>0.25      </td><td>0.14      </td><td>0.17      </td></tr>\n",
       "\t<tr><td>Alaska    </td><td>  1138    </td><td>  16      </td><td>  2.2     </td><td>  284     </td><td> 154.3    </td><td> 122732   </td><td>3/11/2020 </td><td>3/28/2020 </td><td>4/24/2020 </td><td>...       </td><td>  737438  </td><td>10.9      </td><td>32.8      </td><td>  4453    </td><td>0.27      </td><td>0.09      </td><td>0.13      </td><td>0.26      </td><td>0.13      </td><td>0.12      </td></tr>\n",
       "\t<tr><td>Arizona   </td><td> 83376    </td><td>1538      </td><td> 25.2     </td><td>28038     </td><td>1367.7    </td><td> 604362   </td><td>3/11/2020 </td><td>3/31/2020 </td><td>5/16/2020 </td><td>...       </td><td> 7171646  </td><td>14.0      </td><td>39.1      </td><td> 59282    </td><td>0.24      </td><td>0.09      </td><td>0.12      </td><td>0.24      </td><td>0.12      </td><td>0.18      </td></tr>\n",
       "\t<tr><td>Arkansas  </td><td> 23814    </td><td> 287      </td><td>  9.5     </td><td> 4504     </td><td> 790.2    </td><td> 338893   </td><td>3/11/2020 </td><td>0         </td><td>0         </td><td>...       </td><td> 3013825  </td><td>17.2      </td><td>43.5      </td><td> 32336    </td><td>0.25      </td><td>0.09      </td><td>0.12      </td><td>0.25      </td><td>0.13      </td><td>0.17      </td></tr>\n",
       "\t<tr><td>California</td><td>260155    </td><td>6331      </td><td> 16.0     </td><td>53722     </td><td> 657.7    </td><td>4680138   </td><td>3/4/2020  </td><td>3/19/2020 </td><td>0         </td><td>...       </td><td>39557045  </td><td>12.8      </td><td>33.3      </td><td>268818    </td><td>0.24      </td><td>0.09      </td><td>0.14      </td><td>0.26      </td><td>0.12      </td><td>0.14      </td></tr>\n",
       "\t<tr><td>Colorado  </td><td> 34065    </td><td>1701      </td><td>299.0     </td><td> 2043     </td><td> 598.1    </td><td> 350717   </td><td>3/11/2020 </td><td>3/26/2020 </td><td>4/27/2020 </td><td>...       </td><td> 5695564  </td><td> 9.6      </td><td>31.3      </td><td> 38526    </td><td>0.24      </td><td>0.09      </td><td>0.14      </td><td>0.26      </td><td>0.13      </td><td>0.14      </td></tr>\n",
       "</tbody>\n",
       "</table>\n"
      ],
      "text/latex": [
       "\\begin{tabular}{r|lllllllllllllllllllllllll}\n",
       " state & total\\_cases & total\\_deaths & death\\_100k & cases\\_last\\_7\\_days & rate\\_per\\_100k & total\\_test\\_results & date\\_state\\_emerg & date\\_sip\\_start & date\\_sip\\_end & ... & pop\\_2018 & pcnt\\_below\\_pov\\_2018 & pcnt\\_ser\\_ill\\_risk\\_covid & count\\_all\\_cause\\_deaths\\_2018 & prop\\_pop\\_0\\_18 & prop\\_pop\\_19\\_25 & prop\\_pop\\_26\\_34 & prop\\_pop\\_35\\_54 & prop\\_pop\\_55\\_64 & prop\\_pop\\_65\\_over\\\\\n",
       "\\hline\n",
       "\t Alabama    &  44909     & 1009       &  20.6      &  9804      &  918.8     &  449886    & 3/13/2020  & 4/4/2020   & 4/30/2020  & ...        &  4887871   & 16.8       & 43.1       &  54352     & 0.24       & 0.09       & 0.12       & 0.25       & 0.14       & 0.17      \\\\\n",
       "\t Alaska     &   1138     &   16       &   2.2      &   284      &  154.3     &  122732    & 3/11/2020  & 3/28/2020  & 4/24/2020  & ...        &   737438   & 10.9       & 32.8       &   4453     & 0.27       & 0.09       & 0.13       & 0.26       & 0.13       & 0.12      \\\\\n",
       "\t Arizona    &  83376     & 1538       &  25.2      & 28038      & 1367.7     &  604362    & 3/11/2020  & 3/31/2020  & 5/16/2020  & ...        &  7171646   & 14.0       & 39.1       &  59282     & 0.24       & 0.09       & 0.12       & 0.24       & 0.12       & 0.18      \\\\\n",
       "\t Arkansas   &  23814     &  287       &   9.5      &  4504      &  790.2     &  338893    & 3/11/2020  & 0          & 0          & ...        &  3013825   & 17.2       & 43.5       &  32336     & 0.25       & 0.09       & 0.12       & 0.25       & 0.13       & 0.17      \\\\\n",
       "\t California & 260155     & 6331       &  16.0      & 53722      &  657.7     & 4680138    & 3/4/2020   & 3/19/2020  & 0          & ...        & 39557045   & 12.8       & 33.3       & 268818     & 0.24       & 0.09       & 0.14       & 0.26       & 0.12       & 0.14      \\\\\n",
       "\t Colorado   &  34065     & 1701       & 299.0      &  2043      &  598.1     &  350717    & 3/11/2020  & 3/26/2020  & 4/27/2020  & ...        &  5695564   &  9.6       & 31.3       &  38526     & 0.24       & 0.09       & 0.14       & 0.26       & 0.13       & 0.14      \\\\\n",
       "\\end{tabular}\n"
      ],
      "text/markdown": [
       "\n",
       "| state | total_cases | total_deaths | death_100k | cases_last_7_days | rate_per_100k | total_test_results | date_state_emerg | date_sip_start | date_sip_end | ... | pop_2018 | pcnt_below_pov_2018 | pcnt_ser_ill_risk_covid | count_all_cause_deaths_2018 | prop_pop_0_18 | prop_pop_19_25 | prop_pop_26_34 | prop_pop_35_54 | prop_pop_55_64 | prop_pop_65_over |\n",
       "|---|---|---|---|---|---|---|---|---|---|---|---|---|---|---|---|---|---|---|---|---|\n",
       "| Alabama    |  44909     | 1009       |  20.6      |  9804      |  918.8     |  449886    | 3/13/2020  | 4/4/2020   | 4/30/2020  | ...        |  4887871   | 16.8       | 43.1       |  54352     | 0.24       | 0.09       | 0.12       | 0.25       | 0.14       | 0.17       |\n",
       "| Alaska     |   1138     |   16       |   2.2      |   284      |  154.3     |  122732    | 3/11/2020  | 3/28/2020  | 4/24/2020  | ...        |   737438   | 10.9       | 32.8       |   4453     | 0.27       | 0.09       | 0.13       | 0.26       | 0.13       | 0.12       |\n",
       "| Arizona    |  83376     | 1538       |  25.2      | 28038      | 1367.7     |  604362    | 3/11/2020  | 3/31/2020  | 5/16/2020  | ...        |  7171646   | 14.0       | 39.1       |  59282     | 0.24       | 0.09       | 0.12       | 0.24       | 0.12       | 0.18       |\n",
       "| Arkansas   |  23814     |  287       |   9.5      |  4504      |  790.2     |  338893    | 3/11/2020  | 0          | 0          | ...        |  3013825   | 17.2       | 43.5       |  32336     | 0.25       | 0.09       | 0.12       | 0.25       | 0.13       | 0.17       |\n",
       "| California | 260155     | 6331       |  16.0      | 53722      |  657.7     | 4680138    | 3/4/2020   | 3/19/2020  | 0          | ...        | 39557045   | 12.8       | 33.3       | 268818     | 0.24       | 0.09       | 0.14       | 0.26       | 0.12       | 0.14       |\n",
       "| Colorado   |  34065     | 1701       | 299.0      |  2043      |  598.1     |  350717    | 3/11/2020  | 3/26/2020  | 4/27/2020  | ...        |  5695564   |  9.6       | 31.3       |  38526     | 0.24       | 0.09       | 0.14       | 0.26       | 0.13       | 0.14       |\n",
       "\n"
      ],
      "text/plain": [
       "  state      total_cases total_deaths death_100k cases_last_7_days\n",
       "1 Alabama     44909      1009          20.6       9804            \n",
       "2 Alaska       1138        16           2.2        284            \n",
       "3 Arizona     83376      1538          25.2      28038            \n",
       "4 Arkansas    23814       287           9.5       4504            \n",
       "5 California 260155      6331          16.0      53722            \n",
       "6 Colorado    34065      1701         299.0       2043            \n",
       "  rate_per_100k total_test_results date_state_emerg date_sip_start date_sip_end\n",
       "1  918.8         449886            3/13/2020        4/4/2020       4/30/2020   \n",
       "2  154.3         122732            3/11/2020        3/28/2020      4/24/2020   \n",
       "3 1367.7         604362            3/11/2020        3/31/2020      5/16/2020   \n",
       "4  790.2         338893            3/11/2020        0              0           \n",
       "5  657.7        4680138            3/4/2020         3/19/2020      0           \n",
       "6  598.1         350717            3/11/2020        3/26/2020      4/27/2020   \n",
       "  ... pop_2018 pcnt_below_pov_2018 pcnt_ser_ill_risk_covid\n",
       "1 ...  4887871 16.8                43.1                   \n",
       "2 ...   737438 10.9                32.8                   \n",
       "3 ...  7171646 14.0                39.1                   \n",
       "4 ...  3013825 17.2                43.5                   \n",
       "5 ... 39557045 12.8                33.3                   \n",
       "6 ...  5695564  9.6                31.3                   \n",
       "  count_all_cause_deaths_2018 prop_pop_0_18 prop_pop_19_25 prop_pop_26_34\n",
       "1  54352                      0.24          0.09           0.12          \n",
       "2   4453                      0.27          0.09           0.13          \n",
       "3  59282                      0.24          0.09           0.12          \n",
       "4  32336                      0.25          0.09           0.12          \n",
       "5 268818                      0.24          0.09           0.14          \n",
       "6  38526                      0.24          0.09           0.14          \n",
       "  prop_pop_35_54 prop_pop_55_64 prop_pop_65_over\n",
       "1 0.25           0.14           0.17            \n",
       "2 0.26           0.13           0.12            \n",
       "3 0.24           0.12           0.18            \n",
       "4 0.25           0.13           0.17            \n",
       "5 0.26           0.12           0.14            \n",
       "6 0.26           0.13           0.14            "
      ]
     },
     "metadata": {},
     "output_type": "display_data"
    }
   ],
   "source": [
    "# Load Covid data.\n",
    "c <- read.csv(\"covid-data-cleaned.csv\", header = TRUE)\n",
    "head(c)"
   ]
  },
  {
   "cell_type": "markdown",
   "metadata": {},
   "source": [
    "State political party information was not included in the dataset and therefore obtained externally from: https://www.kff.org/other/state-indicator/state-political-parties/.  This information was joined with existing dataset using the `state` variable as the key."
   ]
  },
  {
   "cell_type": "code",
   "execution_count": 3,
   "metadata": {
    "vscode": {
     "languageId": "r"
    }
   },
   "outputs": [
    {
     "data": {
      "text/html": [
       "<table>\n",
       "<thead><tr><th scope=col>V1</th><th scope=col>V2</th><th scope=col>V3</th><th scope=col>V4</th><th scope=col>V5</th><th scope=col>V6</th><th scope=col>V7</th></tr></thead>\n",
       "<tbody>\n",
       "\t<tr><td>ï»¿Title: State Political Parties | KFF           </td><td>                                                  </td><td>                                                  </td><td>                                                  </td><td>                                                  </td><td>                                                  </td><td>                                                  </td></tr>\n",
       "\t<tr><td>Timeframe: 2020                                   </td><td>                                                  </td><td>                                                  </td><td>                                                  </td><td>                                                  </td><td>                                                  </td><td>                                                  </td></tr>\n",
       "\t<tr><td>Location                                          </td><td>Governor Political Affiliation                    </td><td>State Senate Majority Political Affiliation       </td><td>State House Majority Political Affiliation        </td><td>State Attorney General Political Affiliation      </td><td>State Insurance Commissioner Political Affiliation</td><td>Footnotes                                         </td></tr>\n",
       "\t<tr><td>United States                                     </td><td>26 Republicans; 25 Democrats                      </td><td>20 Democrat; 30 Republican; 1 N/A                 </td><td>20 Democrat; 29 Republican; 2 N/A                 </td><td>8 Appointed; 23 Democrat; 20 Republican           </td><td>41 Appointed; 3 Democrats; 7 Republicans          </td><td>                                                  </td></tr>\n",
       "\t<tr><td>Alabama                                           </td><td>Republican                                        </td><td>Republican                                        </td><td>Republican                                        </td><td>Republican                                        </td><td>Appointed                                         </td><td>                                                  </td></tr>\n",
       "\t<tr><td>Alaska                                            </td><td>Republican                                        </td><td>Republican                                        </td><td>Republican                                        </td><td>Appointed                                         </td><td>Appointed                                         </td><td>                                                  </td></tr>\n",
       "</tbody>\n",
       "</table>\n"
      ],
      "text/latex": [
       "\\begin{tabular}{r|lllllll}\n",
       " V1 & V2 & V3 & V4 & V5 & V6 & V7\\\\\n",
       "\\hline\n",
       "\t ï»¿Title: State Political Parties \\textbar{} KFF  &                                                    &                                                    &                                                    &                                                    &                                                    &                                                   \\\\\n",
       "\t Timeframe: 2020                                    &                                                    &                                                    &                                                    &                                                    &                                                    &                                                   \\\\\n",
       "\t Location                                           & Governor Political Affiliation                     & State Senate Majority Political Affiliation        & State House Majority Political Affiliation         & State Attorney General Political Affiliation       & State Insurance Commissioner Political Affiliation & Footnotes                                         \\\\\n",
       "\t United States                                      & 26 Republicans; 25 Democrats                       & 20 Democrat; 30 Republican; 1 N/A                  & 20 Democrat; 29 Republican; 2 N/A                  & 8 Appointed; 23 Democrat; 20 Republican            & 41 Appointed; 3 Democrats; 7 Republicans           &                                                   \\\\\n",
       "\t Alabama                                            & Republican                                         & Republican                                         & Republican                                         & Republican                                         & Appointed                                          &                                                   \\\\\n",
       "\t Alaska                                             & Republican                                         & Republican                                         & Republican                                         & Appointed                                          & Appointed                                          &                                                   \\\\\n",
       "\\end{tabular}\n"
      ],
      "text/markdown": [
       "\n",
       "| V1 | V2 | V3 | V4 | V5 | V6 | V7 |\n",
       "|---|---|---|---|---|---|---|\n",
       "| ï»¿Title: State Political Parties | KFF            |                                                    |                                                    |                                                    |                                                    |                                                    |                                                    |\n",
       "| Timeframe: 2020                                    |                                                    |                                                    |                                                    |                                                    |                                                    |                                                    |\n",
       "| Location                                           | Governor Political Affiliation                     | State Senate Majority Political Affiliation        | State House Majority Political Affiliation         | State Attorney General Political Affiliation       | State Insurance Commissioner Political Affiliation | Footnotes                                          |\n",
       "| United States                                      | 26 Republicans; 25 Democrats                       | 20 Democrat; 30 Republican; 1 N/A                  | 20 Democrat; 29 Republican; 2 N/A                  | 8 Appointed; 23 Democrat; 20 Republican            | 41 Appointed; 3 Democrats; 7 Republicans           |                                                    |\n",
       "| Alabama                                            | Republican                                         | Republican                                         | Republican                                         | Republican                                         | Appointed                                          |                                                    |\n",
       "| Alaska                                             | Republican                                         | Republican                                         | Republican                                         | Appointed                                          | Appointed                                          |                                                    |\n",
       "\n"
      ],
      "text/plain": [
       "  V1                                      V2                            \n",
       "1 ï»¿Title: State Political Parties | KFF                               \n",
       "2 Timeframe: 2020                                                       \n",
       "3 Location                                Governor Political Affiliation\n",
       "4 United States                           26 Republicans; 25 Democrats  \n",
       "5 Alabama                                 Republican                    \n",
       "6 Alaska                                  Republican                    \n",
       "  V3                                         \n",
       "1                                            \n",
       "2                                            \n",
       "3 State Senate Majority Political Affiliation\n",
       "4 20 Democrat; 30 Republican; 1 N/A          \n",
       "5 Republican                                 \n",
       "6 Republican                                 \n",
       "  V4                                        \n",
       "1                                           \n",
       "2                                           \n",
       "3 State House Majority Political Affiliation\n",
       "4 20 Democrat; 29 Republican; 2 N/A         \n",
       "5 Republican                                \n",
       "6 Republican                                \n",
       "  V5                                          \n",
       "1                                             \n",
       "2                                             \n",
       "3 State Attorney General Political Affiliation\n",
       "4 8 Appointed; 23 Democrat; 20 Republican     \n",
       "5 Republican                                  \n",
       "6 Appointed                                   \n",
       "  V6                                                 V7       \n",
       "1                                                             \n",
       "2                                                             \n",
       "3 State Insurance Commissioner Political Affiliation Footnotes\n",
       "4 41 Appointed; 3 Democrats; 7 Republicans                    \n",
       "5 Appointed                                                   \n",
       "6 Appointed                                                   "
      ]
     },
     "metadata": {},
     "output_type": "display_data"
    }
   ],
   "source": [
    "# Load External Data pertaining to State Party Affiliations.\n",
    "party <- read.csv(\"Party_by_state.csv\", header=FALSE)\n",
    "head(party)"
   ]
  },
  {
   "cell_type": "code",
   "execution_count": 4,
   "metadata": {
    "vscode": {
     "languageId": "r"
    }
   },
   "outputs": [
    {
     "data": {
      "text/html": [
       "<table>\n",
       "<thead><tr><th></th><th scope=col>Location</th><th scope=col>Governor Political Affiliation</th><th scope=col>State Senate Majority Political Affiliation</th><th scope=col>State House Majority Political Affiliation</th><th scope=col>State Attorney General Political Affiliation</th><th scope=col>State Insurance Commissioner Political Affiliation</th></tr></thead>\n",
       "<tbody>\n",
       "\t<tr><th scope=row>4</th><td>United States                           </td><td>26 Republicans; 25 Democrats            </td><td>20 Democrat; 30 Republican; 1 N/A       </td><td>20 Democrat; 29 Republican; 2 N/A       </td><td>8 Appointed; 23 Democrat; 20 Republican </td><td>41 Appointed; 3 Democrats; 7 Republicans</td></tr>\n",
       "\t<tr><th scope=row>5</th><td>Alabama                                 </td><td>Republican                              </td><td>Republican                              </td><td>Republican                              </td><td>Republican                              </td><td>Appointed                               </td></tr>\n",
       "\t<tr><th scope=row>6</th><td>Alaska                                  </td><td>Republican                              </td><td>Republican                              </td><td>Republican                              </td><td>Appointed                               </td><td>Appointed                               </td></tr>\n",
       "\t<tr><th scope=row>7</th><td>Arizona                                 </td><td>Republican                              </td><td>Republican                              </td><td>Republican                              </td><td>Republican                              </td><td>Appointed                               </td></tr>\n",
       "\t<tr><th scope=row>8</th><td>Arkansas                                </td><td>Republican                              </td><td>Republican                              </td><td>Republican                              </td><td>Republican                              </td><td>Appointed                               </td></tr>\n",
       "\t<tr><th scope=row>9</th><td>California                              </td><td>Democrat                                </td><td>Democrat                                </td><td>Democrat                                </td><td>Democrat                                </td><td>Democrat                                </td></tr>\n",
       "</tbody>\n",
       "</table>\n"
      ],
      "text/latex": [
       "\\begin{tabular}{r|llllll}\n",
       "  & Location & Governor Political Affiliation & State Senate Majority Political Affiliation & State House Majority Political Affiliation & State Attorney General Political Affiliation & State Insurance Commissioner Political Affiliation\\\\\n",
       "\\hline\n",
       "\t4 & United States                            & 26 Republicans; 25 Democrats             & 20 Democrat; 30 Republican; 1 N/A        & 20 Democrat; 29 Republican; 2 N/A        & 8 Appointed; 23 Democrat; 20 Republican  & 41 Appointed; 3 Democrats; 7 Republicans\\\\\n",
       "\t5 & Alabama                                  & Republican                               & Republican                               & Republican                               & Republican                               & Appointed                               \\\\\n",
       "\t6 & Alaska                                   & Republican                               & Republican                               & Republican                               & Appointed                                & Appointed                               \\\\\n",
       "\t7 & Arizona                                  & Republican                               & Republican                               & Republican                               & Republican                               & Appointed                               \\\\\n",
       "\t8 & Arkansas                                 & Republican                               & Republican                               & Republican                               & Republican                               & Appointed                               \\\\\n",
       "\t9 & California                               & Democrat                                 & Democrat                                 & Democrat                                 & Democrat                                 & Democrat                                \\\\\n",
       "\\end{tabular}\n"
      ],
      "text/markdown": [
       "\n",
       "| <!--/--> | Location | Governor Political Affiliation | State Senate Majority Political Affiliation | State House Majority Political Affiliation | State Attorney General Political Affiliation | State Insurance Commissioner Political Affiliation |\n",
       "|---|---|---|---|---|---|---|\n",
       "| 4 | United States                            | 26 Republicans; 25 Democrats             | 20 Democrat; 30 Republican; 1 N/A        | 20 Democrat; 29 Republican; 2 N/A        | 8 Appointed; 23 Democrat; 20 Republican  | 41 Appointed; 3 Democrats; 7 Republicans |\n",
       "| 5 | Alabama                                  | Republican                               | Republican                               | Republican                               | Republican                               | Appointed                                |\n",
       "| 6 | Alaska                                   | Republican                               | Republican                               | Republican                               | Appointed                                | Appointed                                |\n",
       "| 7 | Arizona                                  | Republican                               | Republican                               | Republican                               | Republican                               | Appointed                                |\n",
       "| 8 | Arkansas                                 | Republican                               | Republican                               | Republican                               | Republican                               | Appointed                                |\n",
       "| 9 | California                               | Democrat                                 | Democrat                                 | Democrat                                 | Democrat                                 | Democrat                                 |\n",
       "\n"
      ],
      "text/plain": [
       "  Location      Governor Political Affiliation\n",
       "4 United States 26 Republicans; 25 Democrats  \n",
       "5 Alabama       Republican                    \n",
       "6 Alaska        Republican                    \n",
       "7 Arizona       Republican                    \n",
       "8 Arkansas      Republican                    \n",
       "9 California    Democrat                      \n",
       "  State Senate Majority Political Affiliation\n",
       "4 20 Democrat; 30 Republican; 1 N/A          \n",
       "5 Republican                                 \n",
       "6 Republican                                 \n",
       "7 Republican                                 \n",
       "8 Republican                                 \n",
       "9 Democrat                                   \n",
       "  State House Majority Political Affiliation\n",
       "4 20 Democrat; 29 Republican; 2 N/A         \n",
       "5 Republican                                \n",
       "6 Republican                                \n",
       "7 Republican                                \n",
       "8 Republican                                \n",
       "9 Democrat                                  \n",
       "  State Attorney General Political Affiliation\n",
       "4 8 Appointed; 23 Democrat; 20 Republican     \n",
       "5 Republican                                  \n",
       "6 Appointed                                   \n",
       "7 Republican                                  \n",
       "8 Republican                                  \n",
       "9 Democrat                                    \n",
       "  State Insurance Commissioner Political Affiliation\n",
       "4 41 Appointed; 3 Democrats; 7 Republicans          \n",
       "5 Appointed                                         \n",
       "6 Appointed                                         \n",
       "7 Appointed                                         \n",
       "8 Appointed                                         \n",
       "9 Democrat                                          "
      ]
     },
     "metadata": {},
     "output_type": "display_data"
    }
   ],
   "source": [
    "# Cleanup Party Data\n",
    "names(party) <- as.matrix(party[3, ])\n",
    "party <- party[-c(1:3), -c(7)]\n",
    "head(party)"
   ]
  },
  {
   "cell_type": "code",
   "execution_count": 5,
   "metadata": {
    "scrolled": false,
    "vscode": {
     "languageId": "r"
    }
   },
   "outputs": [],
   "source": [
    "# Add Party dataframe to c dataframe\n",
    "b <- left_join(c, party, by=c( \"state\" = \"Location\"))"
   ]
  },
  {
   "cell_type": "markdown",
   "metadata": {},
   "source": [
    "In order to utilize shelter-in-place dates meaningfully, we transformed `date_sip_start` and `date_sip_end` variables to derive the new variable `sip_duration`.  This new variable is intended to serve as an indication of state governors' political will in shutting down for the purpose of stemming the spread of COVID-19."
   ]
  },
  {
   "cell_type": "code",
   "execution_count": 6,
   "metadata": {
    "vscode": {
     "languageId": "r"
    }
   },
   "outputs": [],
   "source": [
    "# Convert Values Under SIP to Date Values so that they can be Subtracted\n",
    "b$date_sip_start <- as.character(b$date_sip_start)\n",
    "b$date_sip_start <- as.Date(b$date_sip_start, format='%m/%d/%Y')\n",
    "\n",
    "b$date_sip_end <- as.character(b$date_sip_end)\n",
    "b$date_sip_end[b$date_sip_end == '0'] <- \"7/2/2020\" # Last day data was updated for shelter in place\n",
    "b$date_sip_end <- as.Date(b$date_sip_end, format='%m/%d/%Y')"
   ]
  },
  {
   "cell_type": "code",
   "execution_count": 7,
   "metadata": {
    "vscode": {
     "languageId": "r"
    }
   },
   "outputs": [],
   "source": [
    "# Form Date Difference\n",
    "b$sip_duration <- b$date_sip_end - b$date_sip_start\n",
    "b$sip_duration[is.na(b$sip_duration)] <- 0"
   ]
  },
  {
   "cell_type": "code",
   "execution_count": 8,
   "metadata": {
    "scrolled": false,
    "vscode": {
     "languageId": "r"
    }
   },
   "outputs": [
    {
     "data": {
      "text/html": [
       "<table>\n",
       "<thead><tr><th scope=col>state</th><th scope=col>total_cases</th><th scope=col>total_deaths</th><th scope=col>death_100k</th><th scope=col>cases_last_7_days</th><th scope=col>rate_per_100k</th><th scope=col>total_test_results</th><th scope=col>date_state_emerg</th><th scope=col>date_sip_start</th><th scope=col>date_sip_end</th><th scope=col>...</th><th scope=col>prop_pop_26_34</th><th scope=col>prop_pop_35_54</th><th scope=col>prop_pop_55_64</th><th scope=col>prop_pop_65_over</th><th scope=col>Governor Political Affiliation</th><th scope=col>State Senate Majority Political Affiliation</th><th scope=col>State House Majority Political Affiliation</th><th scope=col>State Attorney General Political Affiliation</th><th scope=col>State Insurance Commissioner Political Affiliation</th><th scope=col>sip_duration</th></tr></thead>\n",
       "<tbody>\n",
       "\t<tr><td>Alabama   </td><td> 44909    </td><td>1009      </td><td> 20.6     </td><td> 9804     </td><td> 918.8    </td><td> 449886   </td><td>3/13/2020 </td><td>2020-04-04</td><td>2020-04-30</td><td>...       </td><td>0.12      </td><td>0.25      </td><td>0.14      </td><td>0.17      </td><td>Republican</td><td>Republican</td><td>Republican</td><td>Republican</td><td>Appointed </td><td> 26 days  </td></tr>\n",
       "\t<tr><td>Alaska    </td><td>  1138    </td><td>  16      </td><td>  2.2     </td><td>  284     </td><td> 154.3    </td><td> 122732   </td><td>3/11/2020 </td><td>2020-03-28</td><td>2020-04-24</td><td>...       </td><td>0.13      </td><td>0.26      </td><td>0.13      </td><td>0.12      </td><td>Republican</td><td>Republican</td><td>Republican</td><td>Appointed </td><td>Appointed </td><td> 27 days  </td></tr>\n",
       "\t<tr><td>Arizona   </td><td> 83376    </td><td>1538      </td><td> 25.2     </td><td>28038     </td><td>1367.7    </td><td> 604362   </td><td>3/11/2020 </td><td>2020-03-31</td><td>2020-05-16</td><td>...       </td><td>0.12      </td><td>0.24      </td><td>0.12      </td><td>0.18      </td><td>Republican</td><td>Republican</td><td>Republican</td><td>Republican</td><td>Appointed </td><td> 46 days  </td></tr>\n",
       "\t<tr><td>Arkansas  </td><td> 23814    </td><td> 287      </td><td>  9.5     </td><td> 4504     </td><td> 790.2    </td><td> 338893   </td><td>3/11/2020 </td><td>NA        </td><td>2020-07-02</td><td>...       </td><td>0.12      </td><td>0.25      </td><td>0.13      </td><td>0.17      </td><td>Republican</td><td>Republican</td><td>Republican</td><td>Republican</td><td>Appointed </td><td>  0 days  </td></tr>\n",
       "\t<tr><td>California</td><td>260155    </td><td>6331      </td><td> 16.0     </td><td>53722     </td><td> 657.7    </td><td>4680138   </td><td>3/4/2020  </td><td>2020-03-19</td><td>2020-07-02</td><td>...       </td><td>0.14      </td><td>0.26      </td><td>0.12      </td><td>0.14      </td><td>Democrat  </td><td>Democrat  </td><td>Democrat  </td><td>Democrat  </td><td>Democrat  </td><td>105 days  </td></tr>\n",
       "\t<tr><td>Colorado  </td><td> 34065    </td><td>1701      </td><td>299.0     </td><td> 2043     </td><td> 598.1    </td><td> 350717   </td><td>3/11/2020 </td><td>2020-03-26</td><td>2020-04-27</td><td>...       </td><td>0.14      </td><td>0.26      </td><td>0.13      </td><td>0.14      </td><td>Democrat  </td><td>Democrat  </td><td>Democrat  </td><td>Democrat  </td><td>Appointed </td><td> 32 days  </td></tr>\n",
       "</tbody>\n",
       "</table>\n"
      ],
      "text/latex": [
       "\\begin{tabular}{r|lllllllllllllllllllllllllllllll}\n",
       " state & total\\_cases & total\\_deaths & death\\_100k & cases\\_last\\_7\\_days & rate\\_per\\_100k & total\\_test\\_results & date\\_state\\_emerg & date\\_sip\\_start & date\\_sip\\_end & ... & prop\\_pop\\_26\\_34 & prop\\_pop\\_35\\_54 & prop\\_pop\\_55\\_64 & prop\\_pop\\_65\\_over & Governor Political Affiliation & State Senate Majority Political Affiliation & State House Majority Political Affiliation & State Attorney General Political Affiliation & State Insurance Commissioner Political Affiliation & sip\\_duration\\\\\n",
       "\\hline\n",
       "\t Alabama    &  44909     & 1009       &  20.6      &  9804      &  918.8     &  449886    & 3/13/2020  & 2020-04-04 & 2020-04-30 & ...        & 0.12       & 0.25       & 0.14       & 0.17       & Republican & Republican & Republican & Republican & Appointed  &  26 days  \\\\\n",
       "\t Alaska     &   1138     &   16       &   2.2      &   284      &  154.3     &  122732    & 3/11/2020  & 2020-03-28 & 2020-04-24 & ...        & 0.13       & 0.26       & 0.13       & 0.12       & Republican & Republican & Republican & Appointed  & Appointed  &  27 days  \\\\\n",
       "\t Arizona    &  83376     & 1538       &  25.2      & 28038      & 1367.7     &  604362    & 3/11/2020  & 2020-03-31 & 2020-05-16 & ...        & 0.12       & 0.24       & 0.12       & 0.18       & Republican & Republican & Republican & Republican & Appointed  &  46 days  \\\\\n",
       "\t Arkansas   &  23814     &  287       &   9.5      &  4504      &  790.2     &  338893    & 3/11/2020  & NA         & 2020-07-02 & ...        & 0.12       & 0.25       & 0.13       & 0.17       & Republican & Republican & Republican & Republican & Appointed  &   0 days  \\\\\n",
       "\t California & 260155     & 6331       &  16.0      & 53722      &  657.7     & 4680138    & 3/4/2020   & 2020-03-19 & 2020-07-02 & ...        & 0.14       & 0.26       & 0.12       & 0.14       & Democrat   & Democrat   & Democrat   & Democrat   & Democrat   & 105 days  \\\\\n",
       "\t Colorado   &  34065     & 1701       & 299.0      &  2043      &  598.1     &  350717    & 3/11/2020  & 2020-03-26 & 2020-04-27 & ...        & 0.14       & 0.26       & 0.13       & 0.14       & Democrat   & Democrat   & Democrat   & Democrat   & Appointed  &  32 days  \\\\\n",
       "\\end{tabular}\n"
      ],
      "text/markdown": [
       "\n",
       "| state | total_cases | total_deaths | death_100k | cases_last_7_days | rate_per_100k | total_test_results | date_state_emerg | date_sip_start | date_sip_end | ... | prop_pop_26_34 | prop_pop_35_54 | prop_pop_55_64 | prop_pop_65_over | Governor Political Affiliation | State Senate Majority Political Affiliation | State House Majority Political Affiliation | State Attorney General Political Affiliation | State Insurance Commissioner Political Affiliation | sip_duration |\n",
       "|---|---|---|---|---|---|---|---|---|---|---|---|---|---|---|---|---|---|---|---|---|\n",
       "| Alabama    |  44909     | 1009       |  20.6      |  9804      |  918.8     |  449886    | 3/13/2020  | 2020-04-04 | 2020-04-30 | ...        | 0.12       | 0.25       | 0.14       | 0.17       | Republican | Republican | Republican | Republican | Appointed  |  26 days   |\n",
       "| Alaska     |   1138     |   16       |   2.2      |   284      |  154.3     |  122732    | 3/11/2020  | 2020-03-28 | 2020-04-24 | ...        | 0.13       | 0.26       | 0.13       | 0.12       | Republican | Republican | Republican | Appointed  | Appointed  |  27 days   |\n",
       "| Arizona    |  83376     | 1538       |  25.2      | 28038      | 1367.7     |  604362    | 3/11/2020  | 2020-03-31 | 2020-05-16 | ...        | 0.12       | 0.24       | 0.12       | 0.18       | Republican | Republican | Republican | Republican | Appointed  |  46 days   |\n",
       "| Arkansas   |  23814     |  287       |   9.5      |  4504      |  790.2     |  338893    | 3/11/2020  | NA         | 2020-07-02 | ...        | 0.12       | 0.25       | 0.13       | 0.17       | Republican | Republican | Republican | Republican | Appointed  |   0 days   |\n",
       "| California | 260155     | 6331       |  16.0      | 53722      |  657.7     | 4680138    | 3/4/2020   | 2020-03-19 | 2020-07-02 | ...        | 0.14       | 0.26       | 0.12       | 0.14       | Democrat   | Democrat   | Democrat   | Democrat   | Democrat   | 105 days   |\n",
       "| Colorado   |  34065     | 1701       | 299.0      |  2043      |  598.1     |  350717    | 3/11/2020  | 2020-03-26 | 2020-04-27 | ...        | 0.14       | 0.26       | 0.13       | 0.14       | Democrat   | Democrat   | Democrat   | Democrat   | Appointed  |  32 days   |\n",
       "\n"
      ],
      "text/plain": [
       "  state      total_cases total_deaths death_100k cases_last_7_days\n",
       "1 Alabama     44909      1009          20.6       9804            \n",
       "2 Alaska       1138        16           2.2        284            \n",
       "3 Arizona     83376      1538          25.2      28038            \n",
       "4 Arkansas    23814       287           9.5       4504            \n",
       "5 California 260155      6331          16.0      53722            \n",
       "6 Colorado    34065      1701         299.0       2043            \n",
       "  rate_per_100k total_test_results date_state_emerg date_sip_start date_sip_end\n",
       "1  918.8         449886            3/13/2020        2020-04-04     2020-04-30  \n",
       "2  154.3         122732            3/11/2020        2020-03-28     2020-04-24  \n",
       "3 1367.7         604362            3/11/2020        2020-03-31     2020-05-16  \n",
       "4  790.2         338893            3/11/2020        <NA>           2020-07-02  \n",
       "5  657.7        4680138            3/4/2020         2020-03-19     2020-07-02  \n",
       "6  598.1         350717            3/11/2020        2020-03-26     2020-04-27  \n",
       "  ... prop_pop_26_34 prop_pop_35_54 prop_pop_55_64 prop_pop_65_over\n",
       "1 ... 0.12           0.25           0.14           0.17            \n",
       "2 ... 0.13           0.26           0.13           0.12            \n",
       "3 ... 0.12           0.24           0.12           0.18            \n",
       "4 ... 0.12           0.25           0.13           0.17            \n",
       "5 ... 0.14           0.26           0.12           0.14            \n",
       "6 ... 0.14           0.26           0.13           0.14            \n",
       "  Governor Political Affiliation State Senate Majority Political Affiliation\n",
       "1 Republican                     Republican                                 \n",
       "2 Republican                     Republican                                 \n",
       "3 Republican                     Republican                                 \n",
       "4 Republican                     Republican                                 \n",
       "5 Democrat                       Democrat                                   \n",
       "6 Democrat                       Democrat                                   \n",
       "  State House Majority Political Affiliation\n",
       "1 Republican                                \n",
       "2 Republican                                \n",
       "3 Republican                                \n",
       "4 Republican                                \n",
       "5 Democrat                                  \n",
       "6 Democrat                                  \n",
       "  State Attorney General Political Affiliation\n",
       "1 Republican                                  \n",
       "2 Appointed                                   \n",
       "3 Republican                                  \n",
       "4 Republican                                  \n",
       "5 Democrat                                    \n",
       "6 Democrat                                    \n",
       "  State Insurance Commissioner Political Affiliation sip_duration\n",
       "1 Appointed                                           26 days    \n",
       "2 Appointed                                           27 days    \n",
       "3 Appointed                                           46 days    \n",
       "4 Appointed                                            0 days    \n",
       "5 Democrat                                           105 days    \n",
       "6 Appointed                                           32 days    "
      ]
     },
     "metadata": {},
     "output_type": "display_data"
    }
   ],
   "source": [
    "head(b)"
   ]
  },
  {
   "cell_type": "markdown",
   "metadata": {},
   "source": [
    "Categorical variables cannot be used in linear regression.  Thus, we transformed `Governor Political Affiliation` using the following function:"
   ]
  },
  {
   "cell_type": "code",
   "execution_count": 9,
   "metadata": {
    "vscode": {
     "languageId": "r"
    }
   },
   "outputs": [],
   "source": [
    "# Transform Political Party into Numeric values.\n",
    "partyAsNumeric <- function(partyList) {\n",
    "  \n",
    "  numericList <- c()\n",
    "  \n",
    "  for (party in partyList) {\n",
    "    code = 3\n",
    "    if (!is.na(party)) {\n",
    "      if (party == \"Republican\") {\n",
    "        code = 1\n",
    "      }\n",
    "      if (party == 'Democrat') {\n",
    "        code = 2\n",
    "      }\n",
    "    } else {\n",
    "      code = 3\n",
    "    }\n",
    "\n",
    "    numericList <- c(numericList, code)\n",
    "  }\n",
    "  numericList\n",
    "}"
   ]
  },
  {
   "cell_type": "code",
   "execution_count": 10,
   "metadata": {
    "vscode": {
     "languageId": "r"
    }
   },
   "outputs": [
    {
     "data": {
      "text/html": [
       "<ol class=list-inline>\n",
       "\t<li>'state'</li>\n",
       "\t<li>'total_cases'</li>\n",
       "\t<li>'total_deaths'</li>\n",
       "\t<li>'death_100k'</li>\n",
       "\t<li>'cases_last_7_days'</li>\n",
       "\t<li>'rate_per_100k'</li>\n",
       "\t<li>'total_test_results'</li>\n",
       "\t<li>'date_state_emerg'</li>\n",
       "\t<li>'date_sip_start'</li>\n",
       "\t<li>'date_sip_end'</li>\n",
       "\t<li>'date_close_non_ess_bus'</li>\n",
       "\t<li>'date_bus_reopen'</li>\n",
       "\t<li>'date_emp_face_mask_req'</li>\n",
       "\t<li>'unemploy_insur_max_amt'</li>\n",
       "\t<li>'pop_density'</li>\n",
       "\t<li>'pop_2018'</li>\n",
       "\t<li>'pcnt_below_pov_2018'</li>\n",
       "\t<li>'pcnt_ser_ill_risk_covid'</li>\n",
       "\t<li>'count_all_cause_deaths_2018'</li>\n",
       "\t<li>'prop_pop_0_18'</li>\n",
       "\t<li>'prop_pop_19_25'</li>\n",
       "\t<li>'prop_pop_26_34'</li>\n",
       "\t<li>'prop_pop_35_54'</li>\n",
       "\t<li>'prop_pop_55_64'</li>\n",
       "\t<li>'prop_pop_65_over'</li>\n",
       "\t<li>'Governor Political Affiliation'</li>\n",
       "\t<li>'State Senate Majority Political Affiliation'</li>\n",
       "\t<li>'State House Majority Political Affiliation'</li>\n",
       "\t<li>'State Attorney General Political Affiliation'</li>\n",
       "\t<li>'State Insurance Commissioner Political Affiliation'</li>\n",
       "\t<li>'sip_duration'</li>\n",
       "\t<li>'gov_party'</li>\n",
       "</ol>\n"
      ],
      "text/latex": [
       "\\begin{enumerate*}\n",
       "\\item 'state'\n",
       "\\item 'total\\_cases'\n",
       "\\item 'total\\_deaths'\n",
       "\\item 'death\\_100k'\n",
       "\\item 'cases\\_last\\_7\\_days'\n",
       "\\item 'rate\\_per\\_100k'\n",
       "\\item 'total\\_test\\_results'\n",
       "\\item 'date\\_state\\_emerg'\n",
       "\\item 'date\\_sip\\_start'\n",
       "\\item 'date\\_sip\\_end'\n",
       "\\item 'date\\_close\\_non\\_ess\\_bus'\n",
       "\\item 'date\\_bus\\_reopen'\n",
       "\\item 'date\\_emp\\_face\\_mask\\_req'\n",
       "\\item 'unemploy\\_insur\\_max\\_amt'\n",
       "\\item 'pop\\_density'\n",
       "\\item 'pop\\_2018'\n",
       "\\item 'pcnt\\_below\\_pov\\_2018'\n",
       "\\item 'pcnt\\_ser\\_ill\\_risk\\_covid'\n",
       "\\item 'count\\_all\\_cause\\_deaths\\_2018'\n",
       "\\item 'prop\\_pop\\_0\\_18'\n",
       "\\item 'prop\\_pop\\_19\\_25'\n",
       "\\item 'prop\\_pop\\_26\\_34'\n",
       "\\item 'prop\\_pop\\_35\\_54'\n",
       "\\item 'prop\\_pop\\_55\\_64'\n",
       "\\item 'prop\\_pop\\_65\\_over'\n",
       "\\item 'Governor Political Affiliation'\n",
       "\\item 'State Senate Majority Political Affiliation'\n",
       "\\item 'State House Majority Political Affiliation'\n",
       "\\item 'State Attorney General Political Affiliation'\n",
       "\\item 'State Insurance Commissioner Political Affiliation'\n",
       "\\item 'sip\\_duration'\n",
       "\\item 'gov\\_party'\n",
       "\\end{enumerate*}\n"
      ],
      "text/markdown": [
       "1. 'state'\n",
       "2. 'total_cases'\n",
       "3. 'total_deaths'\n",
       "4. 'death_100k'\n",
       "5. 'cases_last_7_days'\n",
       "6. 'rate_per_100k'\n",
       "7. 'total_test_results'\n",
       "8. 'date_state_emerg'\n",
       "9. 'date_sip_start'\n",
       "10. 'date_sip_end'\n",
       "11. 'date_close_non_ess_bus'\n",
       "12. 'date_bus_reopen'\n",
       "13. 'date_emp_face_mask_req'\n",
       "14. 'unemploy_insur_max_amt'\n",
       "15. 'pop_density'\n",
       "16. 'pop_2018'\n",
       "17. 'pcnt_below_pov_2018'\n",
       "18. 'pcnt_ser_ill_risk_covid'\n",
       "19. 'count_all_cause_deaths_2018'\n",
       "20. 'prop_pop_0_18'\n",
       "21. 'prop_pop_19_25'\n",
       "22. 'prop_pop_26_34'\n",
       "23. 'prop_pop_35_54'\n",
       "24. 'prop_pop_55_64'\n",
       "25. 'prop_pop_65_over'\n",
       "26. 'Governor Political Affiliation'\n",
       "27. 'State Senate Majority Political Affiliation'\n",
       "28. 'State House Majority Political Affiliation'\n",
       "29. 'State Attorney General Political Affiliation'\n",
       "30. 'State Insurance Commissioner Political Affiliation'\n",
       "31. 'sip_duration'\n",
       "32. 'gov_party'\n",
       "\n",
       "\n"
      ],
      "text/plain": [
       " [1] \"state\"                                             \n",
       " [2] \"total_cases\"                                       \n",
       " [3] \"total_deaths\"                                      \n",
       " [4] \"death_100k\"                                        \n",
       " [5] \"cases_last_7_days\"                                 \n",
       " [6] \"rate_per_100k\"                                     \n",
       " [7] \"total_test_results\"                                \n",
       " [8] \"date_state_emerg\"                                  \n",
       " [9] \"date_sip_start\"                                    \n",
       "[10] \"date_sip_end\"                                      \n",
       "[11] \"date_close_non_ess_bus\"                            \n",
       "[12] \"date_bus_reopen\"                                   \n",
       "[13] \"date_emp_face_mask_req\"                            \n",
       "[14] \"unemploy_insur_max_amt\"                            \n",
       "[15] \"pop_density\"                                       \n",
       "[16] \"pop_2018\"                                          \n",
       "[17] \"pcnt_below_pov_2018\"                               \n",
       "[18] \"pcnt_ser_ill_risk_covid\"                           \n",
       "[19] \"count_all_cause_deaths_2018\"                       \n",
       "[20] \"prop_pop_0_18\"                                     \n",
       "[21] \"prop_pop_19_25\"                                    \n",
       "[22] \"prop_pop_26_34\"                                    \n",
       "[23] \"prop_pop_35_54\"                                    \n",
       "[24] \"prop_pop_55_64\"                                    \n",
       "[25] \"prop_pop_65_over\"                                  \n",
       "[26] \"Governor Political Affiliation\"                    \n",
       "[27] \"State Senate Majority Political Affiliation\"       \n",
       "[28] \"State House Majority Political Affiliation\"        \n",
       "[29] \"State Attorney General Political Affiliation\"      \n",
       "[30] \"State Insurance Commissioner Political Affiliation\"\n",
       "[31] \"sip_duration\"                                      \n",
       "[32] \"gov_party\"                                         "
      ]
     },
     "metadata": {},
     "output_type": "display_data"
    }
   ],
   "source": [
    "# Add \"gov_party\" Column to \"b\" which is a numeric representation of Governor Political Affiliation.\n",
    "b[[\"gov_party\"]] <- partyAsNumeric(b$`Governor Political Affiliation`)\n",
    "colnames(b)"
   ]
  },
  {
   "cell_type": "markdown",
   "metadata": {},
   "source": [
    "***"
   ]
  },
  {
   "cell_type": "code",
   "execution_count": 11,
   "metadata": {
    "vscode": {
     "languageId": "r"
    }
   },
   "outputs": [
    {
     "data": {
      "text/plain": [
       "   Min. 1st Qu.  Median    Mean 3rd Qu.    Max. \n",
       "   0.00   29.00   46.00   47.39   63.00  105.00 "
      ]
     },
     "metadata": {},
     "output_type": "display_data"
    },
    {
     "data": {
      "image/png": "[encoded data removed]",
      "text/plain": [
       "Plot with title \"Histogram of sip_duration\""
      ]
     },
     "metadata": {},
     "output_type": "display_data"
    }
   ],
   "source": [
    "# Summarize Newly Transformed Shelter-in-Place variable \"sip_duration\".\n",
    "summary(as.numeric(b$sip_duration))\n",
    "\n",
    "# Render Histogram of \"sip_duration\".\n",
    "options(repr.plot.height=3, repr.plot.width=5)\n",
    "hist(as.numeric(b$sip_duration), col=\"lightblue\", breaks=10, main=\"Histogram of sip_duration\")"
   ]
  },
  {
   "cell_type": "code",
   "execution_count": 12,
   "metadata": {
    "scrolled": false,
    "vscode": {
     "languageId": "r"
    }
   },
   "outputs": [
    {
     "data": {
      "text/plain": [
       "   Min. 1st Qu.  Median    Mean 3rd Qu.    Max. \n",
       "   1.30    9.50   18.00   42.32   46.45  354.30 "
      ]
     },
     "metadata": {},
     "output_type": "display_data"
    },
    {
     "data": {
      "image/png": "[encoded data removed]",
      "text/plain": [
       "Plot with title \"Histogram of death_100k\""
      ]
     },
     "metadata": {},
     "output_type": "display_data"
    }
   ],
   "source": [
    "# Summarize \"death_100K\".\n",
    "summary(b$death_100k)\n",
    "\n",
    "# Render Histogram of \"death_100k\".\n",
    "options(repr.plot.height=3, repr.plot.width=5)\n",
    "hist(b$death_100k, col=\"pink\", breaks=20, main=\"Histogram of death_100k\")"
   ]
  },
  {
   "cell_type": "markdown",
   "metadata": {},
   "source": [
    "When looking at the plot comparing shelter in place duration to death per 100k people, two outliers from the rest of the data are shown. One of the outliers, the larger one, can be explained by the situation that occurred in New York during the early during the outbreak in the United States. Through investigation of the values in the dataframe, b, the other outlier is Colorado which is unexplained. After reviewing the Center of Disease Control site at https://www.cdc.gov/coronavirus/2019-ncov/cases-updates/us-cases-deaths.html, we conclude that this is incorrect and the death per 100k variable should be recalculated.  The death_100k is updated with the correct calculataion below:"
   ]
  },
  {
   "cell_type": "code",
   "execution_count": 13,
   "metadata": {
    "vscode": {
     "languageId": "r"
    }
   },
   "outputs": [],
   "source": [
    "# Clean and Transform data in \"death_100k\" with Correct Calculation.\n",
    "dr <- b$total_deaths / (b$pop_2018 / 100000)\n",
    "b$death_100k <- round(dr, digits=1)"
   ]
  },
  {
   "cell_type": "code",
   "execution_count": 14,
   "metadata": {
    "vscode": {
     "languageId": "r"
    }
   },
   "outputs": [
    {
     "data": {
      "text/plain": [
       "   Min. 1st Qu.  Median    Mean 3rd Qu.    Max. \n",
       "   1.30    9.50   18.00   33.22   38.75  170.70 "
      ]
     },
     "metadata": {},
     "output_type": "display_data"
    },
    {
     "data": {
      "image/png": "[encoded data removed]",
      "text/plain": [
       "Plot with title \"Histogram of death_100k (recalculated)\""
      ]
     },
     "metadata": {},
     "output_type": "display_data"
    }
   ],
   "source": [
    "# Summarize \"death_100K\".\n",
    "summary(b$death_100k)\n",
    "\n",
    "# Render Histogram of \"death_100k\".\n",
    "options(repr.plot.height=3, repr.plot.width=5)\n",
    "hist(b$death_100k, col=\"pink\", breaks=20, main=\"Histogram of death_100k (recalculated)\")"
   ]
  },
  {
   "cell_type": "code",
   "execution_count": 15,
   "metadata": {
    "vscode": {
     "languageId": "r"
    }
   },
   "outputs": [
    {
     "data": {
      "text/html": [
       "<ol class=list-inline>\n",
       "\t<li>'b.total_cases.b.total_test_results'</li>\n",
       "\t<li>'b.total_deaths.b.pop_2018'</li>\n",
       "\t<li>'b.death_100k'</li>\n",
       "\t<li>'b.pop_density'</li>\n",
       "\t<li>'as.numeric.b.sip_duration.'</li>\n",
       "\t<li>'b.gov_party'</li>\n",
       "</ol>\n"
      ],
      "text/latex": [
       "\\begin{enumerate*}\n",
       "\\item 'b.total\\_cases.b.total\\_test\\_results'\n",
       "\\item 'b.total\\_deaths.b.pop\\_2018'\n",
       "\\item 'b.death\\_100k'\n",
       "\\item 'b.pop\\_density'\n",
       "\\item 'as.numeric.b.sip\\_duration.'\n",
       "\\item 'b.gov\\_party'\n",
       "\\end{enumerate*}\n"
      ],
      "text/markdown": [
       "1. 'b.total_cases.b.total_test_results'\n",
       "2. 'b.total_deaths.b.pop_2018'\n",
       "3. 'b.death_100k'\n",
       "4. 'b.pop_density'\n",
       "5. 'as.numeric.b.sip_duration.'\n",
       "6. 'b.gov_party'\n",
       "\n",
       "\n"
      ],
      "text/plain": [
       "[1] \"b.total_cases.b.total_test_results\" \"b.total_deaths.b.pop_2018\"         \n",
       "[3] \"b.death_100k\"                       \"b.pop_density\"                     \n",
       "[5] \"as.numeric.b.sip_duration.\"         \"b.gov_party\"                       "
      ]
     },
     "metadata": {},
     "output_type": "display_data"
    }
   ],
   "source": [
    "# Create Dataframe of Variables of Interest.\n",
    "c.data<- data.frame(b$total_cases/b$total_test_results, \n",
    "                    b$total_deaths/b$pop_2018, \n",
    "                    b$death_100k, \n",
    "                    b$pop_density,\n",
    "                    as.numeric(b$sip_duration),\n",
    "                    b$gov_party)\n",
    "\n",
    "# Show column names of data frame.\n",
    "colnames(c.data)"
   ]
  },
  {
   "cell_type": "code",
   "execution_count": 16,
   "metadata": {
    "vscode": {
     "languageId": "r"
    }
   },
   "outputs": [
    {
     "data": {
      "image/png": "[encoded data removed]",
      "text/plain": [
       "plot without title"
      ]
     },
     "metadata": {},
     "output_type": "display_data"
    }
   ],
   "source": [
    "options(repr.plot.height=6, repr.plot.width=6)\n",
    "scatterplotMatrix(b[ , c(\"total_deaths\", \"pop_2018\", \"sip_duration\", \"pop_density\")], \n",
    "                    regLine=list(col=c(\"blue\",\"green\", \"yellow\")), \n",
    "                    col=c(\"black\"), smooth=list(col.smooth=\"red\", col.spread=\"red\"))"
   ]
  },
  {
   "cell_type": "code",
   "execution_count": 17,
   "metadata": {
    "scrolled": false,
    "vscode": {
     "languageId": "r"
    }
   },
   "outputs": [
    {
     "data": {
      "text/html": [
       "<table>\n",
       "<thead><tr><th></th><th scope=col>b.total_cases.b.total_test_results</th><th scope=col>b.total_deaths.b.pop_2018</th><th scope=col>b.death_100k</th><th scope=col>b.pop_density</th><th scope=col>sip_duration</th><th scope=col>b.gov_party</th></tr></thead>\n",
       "<tbody>\n",
       "\t<tr><th scope=row>b.total_cases.b.total_test_results</th><td> 1.00000000</td><td>0.4859632  </td><td>0.4858318  </td><td>0.1771116  </td><td>-0.1040616 </td><td>-0.09811709</td></tr>\n",
       "\t<tr><th scope=row>b.total_deaths.b.pop_2018</th><td> 0.48596324</td><td>1.0000000  </td><td>0.9999997  </td><td>0.2731489  </td><td> 0.3222071 </td><td> 0.31704895</td></tr>\n",
       "\t<tr><th scope=row>b.death_100k</th><td> 0.48583178</td><td>0.9999997  </td><td>1.0000000  </td><td>0.2732297  </td><td> 0.3221028 </td><td> 0.31700229</td></tr>\n",
       "\t<tr><th scope=row>b.pop_density</th><td> 0.17711159</td><td>0.2731489  </td><td>0.2732297  </td><td>1.0000000  </td><td> 0.1027464 </td><td> 0.16901853</td></tr>\n",
       "\t<tr><th scope=row>sip_duration</th><td>-0.10406158</td><td>0.3222071  </td><td>0.3221028  </td><td>0.1027464  </td><td> 1.0000000 </td><td> 0.61322214</td></tr>\n",
       "\t<tr><th scope=row>b.gov_party</th><td>-0.09811709</td><td>0.3170489  </td><td>0.3170023  </td><td>0.1690185  </td><td> 0.6132221 </td><td> 1.00000000</td></tr>\n",
       "</tbody>\n",
       "</table>\n"
      ],
      "text/latex": [
       "\\begin{tabular}{r|llllll}\n",
       "  & b.total\\_cases.b.total\\_test\\_results & b.total\\_deaths.b.pop\\_2018 & b.death\\_100k & b.pop\\_density & sip\\_duration & b.gov\\_party\\\\\n",
       "\\hline\n",
       "\tb.total\\_cases.b.total\\_test\\_results &  1.00000000 & 0.4859632   & 0.4858318   & 0.1771116   & -0.1040616  & -0.09811709\\\\\n",
       "\tb.total\\_deaths.b.pop\\_2018 &  0.48596324 & 1.0000000   & 0.9999997   & 0.2731489   &  0.3222071  &  0.31704895\\\\\n",
       "\tb.death\\_100k &  0.48583178 & 0.9999997   & 1.0000000   & 0.2732297   &  0.3221028  &  0.31700229\\\\\n",
       "\tb.pop\\_density &  0.17711159 & 0.2731489   & 0.2732297   & 1.0000000   &  0.1027464  &  0.16901853\\\\\n",
       "\tsip\\_duration & -0.10406158 & 0.3222071   & 0.3221028   & 0.1027464   &  1.0000000  &  0.61322214\\\\\n",
       "\tb.gov\\_party & -0.09811709 & 0.3170489   & 0.3170023   & 0.1690185   &  0.6132221  &  1.00000000\\\\\n",
       "\\end{tabular}\n"
      ],
      "text/markdown": [
       "\n",
       "| <!--/--> | b.total_cases.b.total_test_results | b.total_deaths.b.pop_2018 | b.death_100k | b.pop_density | sip_duration | b.gov_party |\n",
       "|---|---|---|---|---|---|---|\n",
       "| b.total_cases.b.total_test_results |  1.00000000 | 0.4859632   | 0.4858318   | 0.1771116   | -0.1040616  | -0.09811709 |\n",
       "| b.total_deaths.b.pop_2018 |  0.48596324 | 1.0000000   | 0.9999997   | 0.2731489   |  0.3222071  |  0.31704895 |\n",
       "| b.death_100k |  0.48583178 | 0.9999997   | 1.0000000   | 0.2732297   |  0.3221028  |  0.31700229 |\n",
       "| b.pop_density |  0.17711159 | 0.2731489   | 0.2732297   | 1.0000000   |  0.1027464  |  0.16901853 |\n",
       "| sip_duration | -0.10406158 | 0.3222071   | 0.3221028   | 0.1027464   |  1.0000000  |  0.61322214 |\n",
       "| b.gov_party | -0.09811709 | 0.3170489   | 0.3170023   | 0.1690185   |  0.6132221  |  1.00000000 |\n",
       "\n"
      ],
      "text/plain": [
       "                                   b.total_cases.b.total_test_results\n",
       "b.total_cases.b.total_test_results  1.00000000                       \n",
       "b.total_deaths.b.pop_2018           0.48596324                       \n",
       "b.death_100k                        0.48583178                       \n",
       "b.pop_density                       0.17711159                       \n",
       "sip_duration                       -0.10406158                       \n",
       "b.gov_party                        -0.09811709                       \n",
       "                                   b.total_deaths.b.pop_2018 b.death_100k\n",
       "b.total_cases.b.total_test_results 0.4859632                 0.4858318   \n",
       "b.total_deaths.b.pop_2018          1.0000000                 0.9999997   \n",
       "b.death_100k                       0.9999997                 1.0000000   \n",
       "b.pop_density                      0.2731489                 0.2732297   \n",
       "sip_duration                       0.3222071                 0.3221028   \n",
       "b.gov_party                        0.3170489                 0.3170023   \n",
       "                                   b.pop_density sip_duration b.gov_party\n",
       "b.total_cases.b.total_test_results 0.1771116     -0.1040616   -0.09811709\n",
       "b.total_deaths.b.pop_2018          0.2731489      0.3222071    0.31704895\n",
       "b.death_100k                       0.2732297      0.3221028    0.31700229\n",
       "b.pop_density                      1.0000000      0.1027464    0.16901853\n",
       "sip_duration                       0.1027464      1.0000000    0.61322214\n",
       "b.gov_party                        0.1690185      0.6132221    1.00000000"
      ]
     },
     "metadata": {},
     "output_type": "display_data"
    }
   ],
   "source": [
    "# Abbreviate as.numeric.b.sip_duration.\n",
    "names(c.data)[names(c.data) == \"as.numeric.b.sip_duration.\"] <- \"sip_duration\"\n",
    "\n",
    "# Determine if there are Correlations between the Variables of Interest.\n",
    "cor(c.data)"
   ]
  },
  {
   "cell_type": "markdown",
   "metadata": {},
   "source": [
    "Based on the Correlation Matrix above, it appears we have meaningful correlations between (total_deaths/pop_2018) and the variables of interest which will prove useful in building our models."
   ]
  },
  {
   "cell_type": "markdown",
   "metadata": {},
   "source": [
    "### Models ###\n"
   ]
  },
  {
   "cell_type": "code",
   "execution_count": 18,
   "metadata": {
    "vscode": {
     "languageId": "r"
    }
   },
   "outputs": [
    {
     "data": {
      "text/html": [
       "<ol class=list-inline>\n",
       "\t<li>'state'</li>\n",
       "\t<li>'total_cases'</li>\n",
       "\t<li>'total_deaths'</li>\n",
       "\t<li>'death_100k'</li>\n",
       "\t<li>'cases_last_7_days'</li>\n",
       "\t<li>'rate_per_100k'</li>\n",
       "\t<li>'total_test_results'</li>\n",
       "\t<li>'date_state_emerg'</li>\n",
       "\t<li>'date_sip_start'</li>\n",
       "\t<li>'date_sip_end'</li>\n",
       "\t<li>'date_close_non_ess_bus'</li>\n",
       "\t<li>'date_bus_reopen'</li>\n",
       "\t<li>'date_emp_face_mask_req'</li>\n",
       "\t<li>'unemploy_insur_max_amt'</li>\n",
       "\t<li>'pop_density'</li>\n",
       "\t<li>'pop_2018'</li>\n",
       "\t<li>'pcnt_below_pov_2018'</li>\n",
       "\t<li>'pcnt_ser_ill_risk_covid'</li>\n",
       "\t<li>'count_all_cause_deaths_2018'</li>\n",
       "\t<li>'prop_pop_0_18'</li>\n",
       "\t<li>'prop_pop_19_25'</li>\n",
       "\t<li>'prop_pop_26_34'</li>\n",
       "\t<li>'prop_pop_35_54'</li>\n",
       "\t<li>'prop_pop_55_64'</li>\n",
       "\t<li>'prop_pop_65_over'</li>\n",
       "\t<li>'Governor Political Affiliation'</li>\n",
       "\t<li>'State Senate Majority Political Affiliation'</li>\n",
       "\t<li>'State House Majority Political Affiliation'</li>\n",
       "\t<li>'State Attorney General Political Affiliation'</li>\n",
       "\t<li>'State Insurance Commissioner Political Affiliation'</li>\n",
       "\t<li>'sip_duration'</li>\n",
       "\t<li>'gov_party'</li>\n",
       "</ol>\n"
      ],
      "text/latex": [
       "\\begin{enumerate*}\n",
       "\\item 'state'\n",
       "\\item 'total\\_cases'\n",
       "\\item 'total\\_deaths'\n",
       "\\item 'death\\_100k'\n",
       "\\item 'cases\\_last\\_7\\_days'\n",
       "\\item 'rate\\_per\\_100k'\n",
       "\\item 'total\\_test\\_results'\n",
       "\\item 'date\\_state\\_emerg'\n",
       "\\item 'date\\_sip\\_start'\n",
       "\\item 'date\\_sip\\_end'\n",
       "\\item 'date\\_close\\_non\\_ess\\_bus'\n",
       "\\item 'date\\_bus\\_reopen'\n",
       "\\item 'date\\_emp\\_face\\_mask\\_req'\n",
       "\\item 'unemploy\\_insur\\_max\\_amt'\n",
       "\\item 'pop\\_density'\n",
       "\\item 'pop\\_2018'\n",
       "\\item 'pcnt\\_below\\_pov\\_2018'\n",
       "\\item 'pcnt\\_ser\\_ill\\_risk\\_covid'\n",
       "\\item 'count\\_all\\_cause\\_deaths\\_2018'\n",
       "\\item 'prop\\_pop\\_0\\_18'\n",
       "\\item 'prop\\_pop\\_19\\_25'\n",
       "\\item 'prop\\_pop\\_26\\_34'\n",
       "\\item 'prop\\_pop\\_35\\_54'\n",
       "\\item 'prop\\_pop\\_55\\_64'\n",
       "\\item 'prop\\_pop\\_65\\_over'\n",
       "\\item 'Governor Political Affiliation'\n",
       "\\item 'State Senate Majority Political Affiliation'\n",
       "\\item 'State House Majority Political Affiliation'\n",
       "\\item 'State Attorney General Political Affiliation'\n",
       "\\item 'State Insurance Commissioner Political Affiliation'\n",
       "\\item 'sip\\_duration'\n",
       "\\item 'gov\\_party'\n",
       "\\end{enumerate*}\n"
      ],
      "text/markdown": [
       "1. 'state'\n",
       "2. 'total_cases'\n",
       "3. 'total_deaths'\n",
       "4. 'death_100k'\n",
       "5. 'cases_last_7_days'\n",
       "6. 'rate_per_100k'\n",
       "7. 'total_test_results'\n",
       "8. 'date_state_emerg'\n",
       "9. 'date_sip_start'\n",
       "10. 'date_sip_end'\n",
       "11. 'date_close_non_ess_bus'\n",
       "12. 'date_bus_reopen'\n",
       "13. 'date_emp_face_mask_req'\n",
       "14. 'unemploy_insur_max_amt'\n",
       "15. 'pop_density'\n",
       "16. 'pop_2018'\n",
       "17. 'pcnt_below_pov_2018'\n",
       "18. 'pcnt_ser_ill_risk_covid'\n",
       "19. 'count_all_cause_deaths_2018'\n",
       "20. 'prop_pop_0_18'\n",
       "21. 'prop_pop_19_25'\n",
       "22. 'prop_pop_26_34'\n",
       "23. 'prop_pop_35_54'\n",
       "24. 'prop_pop_55_64'\n",
       "25. 'prop_pop_65_over'\n",
       "26. 'Governor Political Affiliation'\n",
       "27. 'State Senate Majority Political Affiliation'\n",
       "28. 'State House Majority Political Affiliation'\n",
       "29. 'State Attorney General Political Affiliation'\n",
       "30. 'State Insurance Commissioner Political Affiliation'\n",
       "31. 'sip_duration'\n",
       "32. 'gov_party'\n",
       "\n",
       "\n"
      ],
      "text/plain": [
       " [1] \"state\"                                             \n",
       " [2] \"total_cases\"                                       \n",
       " [3] \"total_deaths\"                                      \n",
       " [4] \"death_100k\"                                        \n",
       " [5] \"cases_last_7_days\"                                 \n",
       " [6] \"rate_per_100k\"                                     \n",
       " [7] \"total_test_results\"                                \n",
       " [8] \"date_state_emerg\"                                  \n",
       " [9] \"date_sip_start\"                                    \n",
       "[10] \"date_sip_end\"                                      \n",
       "[11] \"date_close_non_ess_bus\"                            \n",
       "[12] \"date_bus_reopen\"                                   \n",
       "[13] \"date_emp_face_mask_req\"                            \n",
       "[14] \"unemploy_insur_max_amt\"                            \n",
       "[15] \"pop_density\"                                       \n",
       "[16] \"pop_2018\"                                          \n",
       "[17] \"pcnt_below_pov_2018\"                               \n",
       "[18] \"pcnt_ser_ill_risk_covid\"                           \n",
       "[19] \"count_all_cause_deaths_2018\"                       \n",
       "[20] \"prop_pop_0_18\"                                     \n",
       "[21] \"prop_pop_19_25\"                                    \n",
       "[22] \"prop_pop_26_34\"                                    \n",
       "[23] \"prop_pop_35_54\"                                    \n",
       "[24] \"prop_pop_55_64\"                                    \n",
       "[25] \"prop_pop_65_over\"                                  \n",
       "[26] \"Governor Political Affiliation\"                    \n",
       "[27] \"State Senate Majority Political Affiliation\"       \n",
       "[28] \"State House Majority Political Affiliation\"        \n",
       "[29] \"State Attorney General Political Affiliation\"      \n",
       "[30] \"State Insurance Commissioner Political Affiliation\"\n",
       "[31] \"sip_duration\"                                      \n",
       "[32] \"gov_party\"                                         "
      ]
     },
     "metadata": {},
     "output_type": "display_data"
    }
   ],
   "source": [
    "# Add \"gov_party\" Column to \"b\" which is a numeric representation of Governor Political Affiliation.\n",
    "b[[\"gov_party\"]] <- partyAsNumeric(b$`Governor Political Affiliation`)\n",
    "colnames(b)"
   ]
  },
  {
   "cell_type": "code",
   "execution_count": 19,
   "metadata": {
    "vscode": {
     "languageId": "r"
    }
   },
   "outputs": [
    {
     "data": {
      "text/plain": [
       "\n",
       "Call:\n",
       "lm(formula = total_deaths/pop_2018 ~ gov_party, data = b)\n",
       "\n",
       "Coefficients:\n",
       "(Intercept)    gov_party  \n",
       " -3.305e-05    2.451e-04  \n"
      ]
     },
     "metadata": {},
     "output_type": "display_data"
    },
    {
     "data": {
      "text/html": [
       "0.100520036521179"
      ],
      "text/latex": [
       "0.100520036521179"
      ],
      "text/markdown": [
       "0.100520036521179"
      ],
      "text/plain": [
       "[1] 0.10052"
      ]
     },
     "metadata": {},
     "output_type": "display_data"
    }
   ],
   "source": [
    "(cmodel1 <- lm(total_deaths/pop_2018 ~ gov_party, data=b))\n",
    "summary(cmodel1)$r.square"
   ]
  },
  {
   "cell_type": "code",
   "execution_count": 20,
   "metadata": {
    "vscode": {
     "languageId": "r"
    }
   },
   "outputs": [
    {
     "data": {
      "text/plain": [
       "\n",
       "Call:\n",
       "lm(formula = total_deaths/pop_2018 ~ pop_density + gov_party, \n",
       "    data = b)\n",
       "\n",
       "Coefficients:\n",
       "(Intercept)  pop_density    gov_party  \n",
       " -1.069e-05    5.516e-08    2.156e-04  \n"
      ]
     },
     "metadata": {},
     "output_type": "display_data"
    },
    {
     "data": {
      "text/html": [
       "0.150145040034076"
      ],
      "text/latex": [
       "0.150145040034076"
      ],
      "text/markdown": [
       "0.150145040034076"
      ],
      "text/plain": [
       "[1] 0.150145"
      ]
     },
     "metadata": {},
     "output_type": "display_data"
    }
   ],
   "source": [
    "(cmodel2 <- lm(total_deaths/pop_2018 ~ pop_density + gov_party, data=b))\n",
    "summary(cmodel2)$r.square"
   ]
  },
  {
   "cell_type": "code",
   "execution_count": 21,
   "metadata": {
    "vscode": {
     "languageId": "r"
    }
   },
   "outputs": [
    {
     "data": {
      "text/plain": [
       "\n",
       "Call:\n",
       "lm(formula = total_deaths/pop_2018 ~ sip_duration + pop_density + \n",
       "    gov_party, data = b)\n",
       "\n",
       "Coefficients:\n",
       " (Intercept)  sip_duration   pop_density     gov_party  \n",
       "  -1.290e-05     3.105e-06     5.521e-08     1.183e-04  \n"
      ]
     },
     "metadata": {},
     "output_type": "display_data"
    },
    {
     "data": {
      "text/html": [
       "0.176398679563572"
      ],
      "text/latex": [
       "0.176398679563572"
      ],
      "text/markdown": [
       "0.176398679563572"
      ],
      "text/plain": [
       "[1] 0.1763987"
      ]
     },
     "metadata": {},
     "output_type": "display_data"
    }
   ],
   "source": [
    "(cmodel3 <- lm(total_deaths/pop_2018 ~ sip_duration + pop_density + gov_party, data=b))\n",
    "summary(cmodel3)$r.square"
   ]
  },
  {
   "cell_type": "markdown",
   "metadata": {},
   "source": [
    "`total_deaths`, `pop_2018`, and `pop_density` appears right skewed and may be impacting our model.  Performing logarithmic transformations on those variables to alleviate.  Hence the following model:"
   ]
  },
  {
   "cell_type": "code",
   "execution_count": 22,
   "metadata": {
    "vscode": {
     "languageId": "r"
    }
   },
   "outputs": [
    {
     "data": {
      "text/plain": [
       "\n",
       "Call:\n",
       "lm(formula = log(total_deaths/pop_2018) ~ sip_duration + log(pop_density) + \n",
       "    gov_party, data = b)\n",
       "\n",
       "Coefficients:\n",
       "     (Intercept)      sip_duration  log(pop_density)         gov_party  \n",
       "      -11.270107         -0.008056          0.548261          0.395268  \n"
      ]
     },
     "metadata": {},
     "output_type": "display_data"
    },
    {
     "data": {
      "text/html": [
       "0.523491891290541"
      ],
      "text/latex": [
       "0.523491891290541"
      ],
      "text/markdown": [
       "0.523491891290541"
      ],
      "text/plain": [
       "[1] 0.5234919"
      ]
     },
     "metadata": {},
     "output_type": "display_data"
    }
   ],
   "source": [
    "(cmodel4 <- lm(log(total_deaths/pop_2018) ~ sip_duration + log(pop_density) + gov_party, data=b))\n",
    "summary(cmodel4)$r.square"
   ]
  },
  {
   "cell_type": "markdown",
   "metadata": {},
   "source": [
    "### Assessment of CLM Assumptions ###"
   ]
  },
  {
   "cell_type": "markdown",
   "metadata": {},
   "source": [
    "We are going to assess the assumptions on our best model, `cmodel4`. Below, let's plot the most common diagnostic plots for our model."
   ]
  },
  {
   "cell_type": "code",
   "execution_count": 23,
   "metadata": {
    "vscode": {
     "languageId": "r"
    }
   },
   "outputs": [
    {
     "data": {
      "image/png": "[encoded data removed]",
      "text/plain": [
       "Plot with title \"\""
      ]
     },
     "metadata": {},
     "output_type": "display_data"
    }
   ],
   "source": [
    "options(repr.plot.height=5, repr.plot.width=6)\n",
    "par(mfrow=c(2,2))\n",
    "plot(cmodel4)"
   ]
  },
  {
   "cell_type": "markdown",
   "metadata": {},
   "source": [
    "- Linearity (MLR.1)\n",
    "\n",
    "This does not need testing. We have a model that expresses linear relationship. Log is an accepted linear transformation.\n",
    "\n",
    "- Random sampling (MLR.2)\n",
    "\n",
    "Autocorrelation testing: Durbin-Watson test. This tests the hypothesis of \"no first order autocorrelation in the model\". "
   ]
  },
  {
   "cell_type": "code",
   "execution_count": 24,
   "metadata": {
    "vscode": {
     "languageId": "r"
    }
   },
   "outputs": [
    {
     "data": {
      "text/plain": [
       "\n",
       "\tDurbin-Watson test\n",
       "\n",
       "data:  cmodel4\n",
       "DW = 1.569, p-value = 0.05668\n",
       "alternative hypothesis: true autocorrelation is greater than 0\n"
      ]
     },
     "metadata": {},
     "output_type": "display_data"
    }
   ],
   "source": [
    "dwtest(cmodel4)"
   ]
  },
  {
   "cell_type": "markdown",
   "metadata": {},
   "source": [
    "We have a value of 1.56 that is inside the acceptable range (1.5-2.5) and a low ~0.05 p value, there therefore we can conclude that there is no autocorrelation in our data.\n",
    "\n",
    "- No Perfect collinearity (MLR.3)\n",
    "\n",
    "Let's see if there is correlation between our predictors."
   ]
  },
  {
   "cell_type": "code",
   "execution_count": 25,
   "metadata": {
    "vscode": {
     "languageId": "r"
    }
   },
   "outputs": [
    {
     "data": {
      "text/html": [
       "<dl class=dl-horizontal>\n",
       "\t<dt>sip_duration</dt>\n",
       "\t\t<dd>1.86928207529125</dd>\n",
       "\t<dt>log(pop_density)</dt>\n",
       "\t\t<dd>1.24732330058421</dd>\n",
       "\t<dt>gov_party</dt>\n",
       "\t\t<dd>1.60369979764877</dd>\n",
       "</dl>\n"
      ],
      "text/latex": [
       "\\begin{description*}\n",
       "\\item[sip\\textbackslash{}\\_duration] 1.86928207529125\n",
       "\\item[log(pop\\textbackslash{}\\_density)] 1.24732330058421\n",
       "\\item[gov\\textbackslash{}\\_party] 1.60369979764877\n",
       "\\end{description*}\n"
      ],
      "text/markdown": [
       "sip_duration\n",
       ":   1.86928207529125log(pop_density)\n",
       ":   1.24732330058421gov_party\n",
       ":   1.60369979764877\n",
       "\n"
      ],
      "text/plain": [
       "    sip_duration log(pop_density)        gov_party \n",
       "        1.869282         1.247323         1.603700 "
      ]
     },
     "metadata": {},
     "output_type": "display_data"
    }
   ],
   "source": [
    "vif(cmodel4)"
   ]
  },
  {
   "cell_type": "markdown",
   "metadata": {},
   "source": [
    "The smallest possible value of VIF is one (absence of multicollinearity). As a rule of thumb, a VIF value that exceeds 5 or 10 indicates a problematic amount of collinearity (James et al. 2014).\n",
    "\n",
    "As our VIF values are low, we can conclude that we don't have perfect collinearity.\n",
    "\n",
    "- Zero conditional mean (MLR.4)\n",
    "\n",
    "Let's look at the fitted values and residual plot (above) and look if the residuals are around zero or not. We can see that zero conditional mean is satisfied with mean residuls around zero.\n",
    "\n",
    "- Homoskedasticity (MLR.5)\n",
    "\n",
    "Let's look at the  fitted values and residual plot and see if the band grows, shrinks or stays the same. As it looks the same, homoskedasticity is satisfied, although we would like to add that there could be more data to make this argument stronger.\n",
    "\n",
    "- Normality of errors (MLR.6)\n",
    "\n",
    "Visually looking at residuals histogram:"
   ]
  },
  {
   "cell_type": "code",
   "execution_count": 26,
   "metadata": {
    "vscode": {
     "languageId": "r"
    }
   },
   "outputs": [
    {
     "data": {
      "image/png": "[encoded data removed]",
      "text/plain": [
       "Plot with title \"Histogram of errors\""
      ]
     },
     "metadata": {},
     "output_type": "display_data"
    }
   ],
   "source": [
    "options(repr.plot.height=3, repr.plot.width=5)\n",
    "h <- hist(cmodel4$residuals, density = 10,\n",
    "          col = \"lightgray\", xlab = \"Accuracy\", main = \"Histogram of errors\", xlim = c(-3,3)) \n",
    "xfit <- seq(min(cmodel4$residuals), max(cmodel4$residuals), length = 40) \n",
    "yfit <- dnorm(xfit, mean = mean(cmodel4$residuals), sd = sd(cmodel4$residuals)) \n",
    "yfit <- yfit * diff(h$mids[1:2]) * length(cmodel4$residuals) \n",
    "\n",
    "lines(xfit, yfit, col = \"black\", lwd = 2)"
   ]
  },
  {
   "cell_type": "markdown",
   "metadata": {},
   "source": [
    "Satisfied by visual observation - with one outlier at -3."
   ]
  },
  {
   "cell_type": "markdown",
   "metadata": {},
   "source": [
    "### Regression Table ###\n"
   ]
  },
  {
   "cell_type": "code",
   "execution_count": 27,
   "metadata": {
    "vscode": {
     "languageId": "r"
    }
   },
   "outputs": [],
   "source": [
    "se.model1 <- sqrt(diag(vcovHC(cmodel1)))\n",
    "se.model2 <- sqrt(diag(vcovHC(cmodel2)))\n",
    "se.model3 <- sqrt(diag(vcovHC(cmodel3)))\n",
    "se.model4 <- sqrt(diag(vcovHC(cmodel4)))"
   ]
  },
  {
   "cell_type": "code",
   "execution_count": null,
   "metadata": {
    "vscode": {
     "languageId": "r"
    }
   },
   "outputs": [],
   "source": [
    "# Forms a regression table\n",
    "star_output <- stargazer(cmodel1, cmodel2, cmodel3, cmodel4, type=\"html\", \n",
    "          title = \"Linear Models Predicting Normalized degree of COVID cases\",\n",
    "          se = list(se.model1, se.model2, se.model3, se.model4),\n",
    "          omit.stat = \"f\",\n",
    "          digits=7,\n",
    "          ci=TRUE,\n",
    "          star.cutoffs = c(0.05, 0.01, 0.001))"
   ]
  },
  {
   "cell_type": "code",
   "execution_count": 29,
   "metadata": {
    "vscode": {
     "languageId": "r"
    }
   },
   "outputs": [
    {
     "data": {
      "text/html": [
       ", <table style=\"text-align:center\"><caption><strong>Linear Models Predicting Normalized degree of COVID cases</strong></caption>, <tr><td colspan=\"5\" style=\"border-bottom: 1px solid black\"></td></tr><tr><td style=\"text-align:left\"></td><td colspan=\"4\"><em>Dependent variable:</em></td></tr>, <tr><td></td><td colspan=\"4\" style=\"border-bottom: 1px solid black\"></td></tr>, <tr><td style=\"text-align:left\"></td><td colspan=\"3\">total_deaths/pop_2018</td><td>log(total_deaths/pop_2018)</td></tr>, <tr><td style=\"text-align:left\"></td><td>(1)</td><td>(2)</td><td>(3)</td><td>(4)</td></tr>, <tr><td colspan=\"5\" style=\"border-bottom: 1px solid black\"></td></tr><tr><td style=\"text-align:left\">sip_duration</td><td></td><td></td><td>0.0000031</td><td>-0.0080558</td></tr>, <tr><td style=\"text-align:left\"></td><td></td><td></td><td>(-0.0000066, 0.0000128)</td><td>(-0.0235280, 0.0074165)</td></tr>, <tr><td style=\"text-align:left\"></td><td></td><td></td><td></td><td></td></tr>, <tr><td style=\"text-align:left\">pop_density</td><td></td><td>0.0000001</td><td>0.0000001</td><td></td></tr>, <tr><td style=\"text-align:left\"></td><td></td><td>(-0.0000028, 0.0000029)</td><td>(-0.0000028, 0.0000029)</td><td></td></tr>, <tr><td style=\"text-align:left\"></td><td></td><td></td><td></td><td></td></tr>, <tr><td style=\"text-align:left\">log(pop_density)</td><td></td><td></td><td></td><td>0.5482609<sup>***</sup></td></tr>, <tr><td style=\"text-align:left\"></td><td></td><td></td><td></td><td>(0.3146842, 0.7818376)</td></tr>, <tr><td style=\"text-align:left\"></td><td></td><td></td><td></td><td></td></tr>, <tr><td style=\"text-align:left\">gov_party</td><td>0.0002451<sup>*</sup></td><td>0.0002156</td><td>0.0001183</td><td>0.3952678</td></tr>, <tr><td style=\"text-align:left\"></td><td>(0.0000330, 0.0004572)</td><td>(-0.0000849, 0.0005161)</td><td>(-0.0001084, 0.0003450)</td><td>(-0.1311785, 0.9217140)</td></tr>, <tr><td style=\"text-align:left\"></td><td></td><td></td><td></td><td></td></tr>, <tr><td style=\"text-align:left\">Constant</td><td>-0.0000330</td><td>-0.0000107</td><td>-0.0000129</td><td>-11.2701100<sup>***</sup></td></tr>, <tr><td style=\"text-align:left\"></td><td>(-0.0002980, 0.0002319)</td><td>(-0.0003115, 0.0002901)</td><td>(-0.0003104, 0.0002846)</td><td>(-12.2581400, -10.2820800)</td></tr>, <tr><td style=\"text-align:left\"></td><td></td><td></td><td></td><td></td></tr>, <tr><td colspan=\"5\" style=\"border-bottom: 1px solid black\"></td></tr><tr><td style=\"text-align:left\">Observations</td><td>51</td><td>51</td><td>51</td><td>51</td></tr>, <tr><td style=\"text-align:left\">R<sup>2</sup></td><td>0.1005200</td><td>0.1501450</td><td>0.1763987</td><td>0.5234919</td></tr>, <tr><td style=\"text-align:left\">Adjusted R<sup>2</sup></td><td>0.0821633</td><td>0.1147344</td><td>0.1238284</td><td>0.4930765</td></tr>, <tr><td style=\"text-align:left\">Residual Std. Error</td><td>0.0003740 (df = 49)</td><td>0.0003673 (df = 48)</td><td>0.0003654 (df = 47)</td><td>0.7835806 (df = 47)</td></tr>, <tr><td colspan=\"5\" style=\"border-bottom: 1px solid black\"></td></tr><tr><td style=\"text-align:left\"><em>Note:</em></td><td colspan=\"4\" style=\"text-align:right\"><sup>*</sup>p<0.05; <sup>**</sup>p<0.01; <sup>***</sup>p<0.001</td></tr>, </table>"
      ]
     },
     "metadata": {},
     "output_type": "display_data"
    }
   ],
   "source": [
    "# Displays html code generated by stargazer\n",
    "library(IRdisplay)\n",
    "display_html(toString(star_output))"
   ]
  },
  {
   "cell_type": "markdown",
   "metadata": {},
   "source": [
    "As can be seen form the regression table displayed above, there are two dependent variables, one being the logarithmic version of the other. As a result, the models can not be directly compared but the progression toward our final model can be seen from the table. The final model is displayed in magnitude rather than its orginal scale.\n",
    "\n",
    "Note, for the first three models, the common coefficients tend to decrease as more variables are added. This is due to the model relying on more variables to determine outcome. The models that have more than one variable determine the coefficient by hold on the variables constant rather than omitting them, which gives a smaller value than before. "
   ]
  },
  {
   "cell_type": "markdown",
   "metadata": {},
   "source": [
    "The final model shows a $r_2$ of $0.493$ and shows statistical significants for one of the coefficients, `log(pop_density)`, indicating the p-value is below 0.001. The other variables in the model on the other hand show no statistical significants. This may be to the sample size not being large enough to account for the variability in the data.\n",
    "\n",
    "The progress of our model also displays practicial significance. This can be seen by examining the confidence intervals of each of the coefficients. As we move from `cmodel1` to `cmodel3`, the confidence intervals for each coefficient becomes a little more narrower. Unforunately, since out last model has shift on what each variable means it is difficult to compare the practicial significance to the previous model."
   ]
  },
  {
   "cell_type": "markdown",
   "metadata": {},
   "source": [
    "### Discussion of Omitted Variables ###\n"
   ]
  },
  {
   "cell_type": "markdown",
   "metadata": {},
   "source": [
    "OLS estimators become biased when variables that belong the population model are omitted. Explained in simple terms, when an important variable is left out of the model, the coefficients of the included variables end up \"doing extra work\" for the model to perform. Here are omitted variables that could potentially bias our results:\n",
    "\n",
    "|Omitted Variable Name|Description|Estimated Direction of Bias on $\\beta_3$ |\n",
    "|:-- |:-- |:-: |\n",
    "|`date_gen_pub_mask_req`|Date of mask requirement for general public, if any.|Negative (toward zero)|\n",
    "|`social_dist_attitudes`|Categorical variable, 1 (Support) - 5 (Oppose), measures attitudes towards social distancing.|Positive (away from zero)|\n",
    "|`prop_wfh_option`|Proportion of population with option to work from home.|Negative (toward zero)|\n",
    "|`testing_avail`|Availability of COVID-90 Testing.|Negative (toward zero)|\n",
    "|`ctac_tracing_date`|Date contract tracing program implemented.|Negative (toward zero)|\n",
    "|`pcnt_ser_ill_risk_covid`|Percent of people vulnerable if infected| Positive(away from zero)|\n",
    "\n",
    "It should be noted that the Omitted Variables proposed above must be compared with an existing variable in our model to derive the direction of the bias (away or toward zero). Below, again, is our model:\n",
    "\n",
    "$$log(total\\_deaths/pop\\_2018) = \\beta_0 + \\beta_1 sip\\_duration + \\beta_2 gov\\_party + \\beta_3 log(pop\\_density) $$\n",
    "\n",
    "We arbitrarily chose to compare the omitted variables to $\\beta_3$.  $\\beta_3$ is postive (because the independent variable `pop_density` and dependent variable `total_deaths / pop_2018` is postively correlated). In short, the denser the population, the higher the death toll.  Intuitively speaking, anything that stems COVID-19 spread, that was omitted, will have a **negative** bias effect on $\\beta_3$.  Any omitted variable that could increases the spread, will have a **positive** bias on $\\beta_3$."
   ]
  },
  {
   "attachments": {},
   "cell_type": "markdown",
   "metadata": {},
   "source": [
    "## Conclusion\n"
   ]
  },
  {
   "cell_type": "markdown",
   "metadata": {},
   "source": [
    "We conclude this report by revisiting our question, assessing hypothesis, and commenting on our findings.\n",
    "\n",
    "The question we endeavored to answer in this lab was: \"What role did partisanship of states play in the shelter in place order and how did those politics ultimately affect the death toll?\"  \n",
    "\n",
    "Governors have direct control on state policies and emergency measures that address pandemics such as COVID-19.  They evaluate many factors when making these decisions and unfortunately, there are times when the value of human life isn't the only consideration.  Our hypothesis is that **Republican governors do a poorer job at managing this crisis than do their Democratic counterparts and therefore should have a higher death rate in their states**.\n",
    "\n",
    "The model we settled on in this analysis was:\n",
    "\n",
    "$$log(total\\_deaths/pop\\_2018) = -11.27 -0.0081 sip\\_duration + 0.3953 gov\\_party + 0.5483 log(pop\\_density) $$\n",
    " \n",
    "While we can see the the `gov_party` seemed to play a role in the death toll, it was actually `pop_density` that was the biggest factor. Shelter-in-place duration had a negative effect on the death tool, as expected. In terms of the Null Hypothesis that governor partisanship has nothing to do with a state's death toll, we failed to reject it."
   ]
  }
 ],
 "metadata": {
  "kernelspec": {
   "display_name": "R",
   "language": "R",
   "name": "ir"
  },
  "language_info": {
   "codemirror_mode": "r",
   "file_extension": ".r",
   "mimetype": "text/x-r-source",
   "name": "R",
   "pygments_lexer": "r",
   "version": "3.6.1"
  }
 },
 "nbformat": 4,
 "nbformat_minor": 4
}
